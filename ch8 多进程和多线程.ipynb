{
 "cells": [
  {
   "cell_type": "markdown",
   "metadata": {},
   "source": [
    "# 进程和线程"
   ]
  },
  {
   "cell_type": "markdown",
   "metadata": {},
   "source": [
    "## 课堂：多进程"
   ]
  },
  {
   "cell_type": "markdown",
   "metadata": {},
   "source": [
    "今天我们使用的计算机早已进入多CPU或多核时代，而我们使用的操作系统都是支持“多任务”的操作系统，这使得我们可以同时运行多个程序，也可以将一个程序分解为若干个相对独立的子任务，让多个子任务并发的执行，从而缩短程序的执行时间，同时也让用户获得更好的体验。因此在当下不管是用什么编程语言进行开发，实现让程序同时执行多个任务也就是常说的“并发编程”，应该是程序员必备技能之一。为此，我们需要先讨论两个概念，一个叫进程，一个叫线程。\n",
    "+ 几乎所有的操作系统都支持同时运行多个任务，一个任务就是一个程序，每一个运行中的程序就是一个进程。也就是说进程是处于运行中的程序。\n",
    "+ 进程是系统进行资源分配和调度的一个独立单位。"
   ]
  },
  {
   "cell_type": "markdown",
   "metadata": {},
   "source": [
    "进程就是操作系统中执行的一个程序，操作系统以进程为单位分配存储空间，每个进程都有自己的地址空间、数据栈以及其他用于跟踪进程执行的辅助数据，操作系统管理所有进程的执行，为它们合理的分配资源。进程可以通过fork或spawn的方式来创建新的进程来执行其他的任务，不过新的进程也有自己独立的内存空间，因此必须通过进程间通信机制（IPC，Inter-Process Communication）来实现数据共享，具体的方式包括管道、信号、套接字、共享内存区等。"
   ]
  },
  {
   "cell_type": "markdown",
   "metadata": {},
   "source": [
    "所谓的线程就是CPU调度的执行单元。由于线程在同一个进程下，它们可以共享相同的上下文，因此相对于进程而言，线程间的信息共享和通信更加容易。当然在单核CPU系统中，真正的并发是不可能的，因为在某个时刻能够获得CPU的只有唯一的一个线程，多个线程共享了CPU的执行时间。使用多线程实现并发编程为程序带来的好处是不言而喻的，最主要的体现在提升程序的性能和改善用户体验，今天我们使用的软件几乎都用到了多线程技术，这一点可以利用系统自带的进程监控工具（如macOS中的“活动监视器”、Windows中的“任务管理器”）进行查看。"
   ]
  },
  {
   "cell_type": "markdown",
   "metadata": {},
   "source": [
    "进程和线程拥有的资源对比见下图"
   ]
  },
  {
   "cell_type": "markdown",
   "metadata": {},
   "source": [
    "<img src=\"picture/进程.png\" width=\"400\"> "
   ]
  },
  {
   "cell_type": "markdown",
   "metadata": {},
   "source": [
    "<img src=\"picture/线程.png\" width=\"400\"> "
   ]
  },
  {
   "cell_type": "raw",
   "metadata": {},
   "source": [
    "类比：腾讯课堂：教师和学生的互动。\n",
    "教师：类似CPU\n",
    "学生：类似进程\n",
    "如果老师只和一个学生互动，这是单进程；如果老师同时和多个学生互动，这就是多进程。\n",
    "老师和一个学生互动时，可以有多种形式，比如我可以同时通过文字、语音和视频等方式和这个学生互动，这就是多线程。\n",
    "多进程模式最大的优点就是稳定性高，因为一个子进程崩溃了（某个学生的网络信号不好），不会影响主进程和其他子进程。缺点是创建进程的代价大，特别是在Windows下创建进程开销巨大，在linux系统下使用fork相对要好。\n",
    "多线程相对于多进程速度快些，但是任何一个线程崩溃都可能直接造成整个进程崩溃，因为所有线程共享进程的内存。"
   ]
  },
  {
   "cell_type": "markdown",
   "metadata": {},
   "source": [
    "+ Unix/Linux操作系统提供了一个fork()系统调用创建子进程\n",
    "+ Python的os模块封装了常见的系统调用，其中就包括fork，通过fork可以在Python程序中创建子进程，特别注意这里只能针对Unix/Linux/Mac系统。因此如果写多进程的服务程序，Unix/Linux是最好的选择。\n",
    "+ 由于Windows没有fork调用，因此不能使用fork创建子进程"
   ]
  },
  {
   "cell_type": "markdown",
   "metadata": {},
   "source": [
    "### multiprocessing模块的Process类"
   ]
  },
  {
   "cell_type": "markdown",
   "metadata": {},
   "source": [
    "multiprocessing模块是跨平台的多进程模块"
   ]
  },
  {
   "cell_type": "code",
   "execution_count": null,
   "metadata": {
    "scrolled": true
   },
   "outputs": [],
   "source": [
    "import multiprocessing\n",
    "help(multiprocessing.Process)"
   ]
  },
  {
   "cell_type": "markdown",
   "metadata": {},
   "source": [
    "+ multiprocessing.Process(group=None, target=None, name=None, args=(), kwargs={})\n",
    "\n",
    "- group：分组，实际上很少使用\n",
    "- target：表示调用对象，可以传入方法的名字\n",
    "- name：别名，相当于给这个进程取一个名字\n",
    "- args：表示被调用对象的位置参数元组，比如target是函数a，他有两个参数m，n，那么args就传入(m, n)即可\n",
    "- kwargs：表示调用对象的字典"
   ]
  },
  {
   "cell_type": "markdown",
   "metadata": {},
   "source": [
    "创建新进程方式1： 以指定函数作为target，创建Process对象来创建新的进程"
   ]
  },
  {
   "cell_type": "markdown",
   "metadata": {},
   "source": [
    "创建新进程方式2： 继承Process类，重写它的run()方法创建进程类，然后创建该进程类的实例来创建子进程"
   ]
  },
  {
   "cell_type": "markdown",
   "metadata": {},
   "source": [
    "Tips：multiprocessing模块不支持交互模式，需要在 cmd 命令行下 输入 python processtest.py来运行程序"
   ]
  },
  {
   "cell_type": "code",
   "execution_count": null,
   "metadata": {
    "scrolled": true
   },
   "outputs": [],
   "source": [
    "# processtest1.py\n",
    "from multiprocessing import Process\n",
    "import os,time\n",
    "\n",
    "# 子进程要执行的代码\n",
    "def fun(name):\n",
    "    print('Run child process %s (%s)...' % (name, os.getpid()))\n",
    "    print('hello', name)\n",
    "\n",
    "if __name__=='__main__': #主程序\n",
    "    print('Parent process %s.' % os.getpid())\n",
    "    p = Process(target=fun, args=('zhang',)) #以指定函数创建子进程\n",
    "    print('Child process will start.',p.name)\n",
    "    p.start() #启动进程\n",
    "    p.join() #当前进程等待子进程p执行完毕再向下继续执行\n",
    "    print('Parent process fininshed.')"
   ]
  },
  {
   "cell_type": "code",
   "execution_count": null,
   "metadata": {},
   "outputs": [],
   "source": [
    "# processtest2.py\n",
    "import multiprocessing\n",
    "import os\n",
    "\n",
    "# 子进程要执行的代码\n",
    "def fun(num):\n",
    "    print('process %d ' % num)\n",
    "\n",
    "if __name__=='__main__':\n",
    "    print('Parent process %s.' % os.getpid())\n",
    "    for i in range(8):\n",
    "        p = multiprocessing.Process(target=fun, args=(i+1,))\n",
    "        p.start()\n",
    "   \n",
    "    # active_children() 方法获取目前所有的运行的进程\n",
    "    for p in multiprocessing.active_children():\n",
    "        print('child process name is: '+p.name+' child process id:'+str(p.pid))\n",
    "    print('Waiting for All Child process fininshed.')\n",
    "    for p in multiprocessing.active_children():\n",
    "        p.join()\n",
    "    print('Parent process fininshed.')"
   ]
  },
  {
   "cell_type": "markdown",
   "metadata": {},
   "source": [
    "创建新进程方式2： 继承Process类，重写它的run()方法创建进程类，然后创建该进程类的实例来创建子进程"
   ]
  },
  {
   "cell_type": "code",
   "execution_count": null,
   "metadata": {},
   "outputs": [],
   "source": [
    "#processtest3.py\n",
    "import multiprocessing\n",
    "import os,time\n",
    "\n",
    "# 子进程要执行的代码\n",
    "class MySubProcess(multiprocessing.Process):\n",
    "    def __init__(self,name):\n",
    "        self.name = name\n",
    "        super().__init__()\n",
    "    #重写run()方法\n",
    "    def run(self):\n",
    "        print('Run child process %s (%s)...' % (self.name, os.getpid()))\n",
    "        print('hello', self.name)\n",
    "\n",
    "if __name__=='__main__': #主程序（也就是主进程）\n",
    "    print('Parent process %s.' % os.getpid())\n",
    "    p = MySubProcess('zhang') #创建子进程实例\n",
    "    print('Child process will start.')\n",
    "    p.start() #启动进程\n",
    "    p.join() #当前进程等待子进程p执行完毕再向下继续执行\n",
    "    print('Parent process fininshed.')"
   ]
  },
  {
   "cell_type": "markdown",
   "metadata": {},
   "source": [
    "### 进程池"
   ]
  },
  {
   "cell_type": "markdown",
   "metadata": {},
   "source": [
    "可以用进程池的方式批量创建和管理子进程"
   ]
  },
  {
   "cell_type": "code",
   "execution_count": null,
   "metadata": {
    "scrolled": true
   },
   "outputs": [],
   "source": [
    "import multiprocessing \n",
    "help(multiprocessing.Pool())"
   ]
  },
  {
   "cell_type": "code",
   "execution_count": null,
   "metadata": {
    "scrolled": true
   },
   "outputs": [],
   "source": [
    "#pool.py\n",
    "from multiprocessing import Pool\n",
    "import os, time, random\n",
    "def fun(num):\n",
    "    print('child process %s Running (%s)' % (num,os.getpid()))\n",
    "    start = time.time()\n",
    "    time.sleep(random.random() * 3)\n",
    "    end = time.time()\n",
    "    print('child process %s runs %0.2f seconds.' % (num, (end - start)))\n",
    "if __name__=='__main__':\n",
    "    print('Parent process %s.' % os.getpid())\n",
    "#   #创建多个进程，可以同时执行的进程数量。默认大小为CPU的内核数量\n",
    "    p = Pool(5)\n",
    "    for i in range(8):\n",
    "        p.apply_async(fun, args=(i,)) #apply_async是异步非阻塞式，由操作系统调度来进行进程切换。\n",
    "#         p.apply(fun, args=(i,))      #apply是阻塞方式\n",
    "    print('Waiting for All child process finished...')\n",
    "   #关闭进程池。调用该方法后，该进程池不能再接收新任务，\n",
    "   #它会在当前进程池中的所有任务执行完成之后再关闭自己\n",
    "  #在调用join()之前必须先close\n",
    "    p.close()\n",
    "    #进程池对象调用join，会等待进程池中所有的子进程结束完毕再去结束父进程\n",
    "    p.join()\n",
    "    print('All child process finished.')"
   ]
  },
  {
   "cell_type": "markdown",
   "metadata": {},
   "source": [
    "使用with语句管理进程池"
   ]
  },
  {
   "cell_type": "code",
   "execution_count": null,
   "metadata": {},
   "outputs": [],
   "source": [
    "#poolmap.py\n",
    "import multiprocessing\n",
    "import os,time\n",
    "\n",
    "def fun(num):\n",
    "    mysum = 0\n",
    "    for i in range(num):\n",
    "        print('(%s)process is running: %d' %(os.getpid(),i))\n",
    "        mysum += i\n",
    "    return mysum\n",
    "\n",
    "if __name__=='__main__':\n",
    "    #使用with语句进行上下文管理\n",
    "    with multiprocessing.Pool(4) as pool:\n",
    "        #使用进程执行map计算\n",
    "        #元组由3个元素，启动三个进程执行函数fun\n",
    "        results = pool.map(fun,(3,6,9))\n",
    "        for item in results:\n",
    "            print(item)"
   ]
  },
  {
   "cell_type": "markdown",
   "metadata": {},
   "source": [
    "### ProcessPoolExecutor并发编程"
   ]
  },
  {
   "cell_type": "markdown",
   "metadata": {},
   "source": [
    "+ 计算密集型的任务：主要消耗CPU资源，比如大素数计算、圆周率计算、对视频高清解码等。\n",
    "因此，代码运行效率至关重要。\n",
    "+ 下面通过这个大素数计算的例子，通过使用ProcessPoolExecutor类进行并发编程提高效率。"
   ]
  },
  {
   "cell_type": "code",
   "execution_count": null,
   "metadata": {},
   "outputs": [],
   "source": [
    "#PrimeNoWithfuture.py\n",
    "from time import time\n",
    "import math\n",
    "PRIMES = [\n",
    "    112272535095293, #15位\n",
    "    112582705942171,\n",
    "    112272535095293,\n",
    "    115280095190773,\n",
    "    115797848077099,\n",
    "    1099726899285419] #16位\n",
    "\n",
    "def is_prime(n):\n",
    "    if n < 2:\n",
    "        return False\n",
    "    if n == 2:\n",
    "        return True\n",
    "    if n % 2 == 0:\n",
    "        return False\n",
    "    sqrt_n = int(math.floor(math.sqrt(n)))\n",
    "    for i in range(3, sqrt_n + 1, 2):\n",
    "        if n % i == 0:\n",
    "            return False\n",
    "    return True\n",
    "\n",
    "def main(): \n",
    "    start = time()\n",
    "    for n in PRIMES:\n",
    "        print('%d is prime? %s' % (n, is_prime(n)))\n",
    "    end = time()\n",
    "    print((end-start)/n)\n",
    "\n",
    "if __name__ == '__main__':\n",
    "    main()"
   ]
  },
  {
   "cell_type": "code",
   "execution_count": null,
   "metadata": {},
   "outputs": [],
   "source": [
    "import concurrent.futures\n",
    "help(concurrent.futures.ProcessPoolExecutor())"
   ]
  },
  {
   "cell_type": "raw",
   "metadata": {},
   "source": [
    "__init__(self, max_workers=None, mp_context=None, initializer=None, initargs=())\n",
    " |      Initializes a new ProcessPoolExecutor instance.\n",
    "Args:\n",
    " |          max_workers: The maximum number of processes that can be used to\n",
    " |              execute the given calls. If None or not given then as many\n",
    " |              worker processes will be created as the machine has processors."
   ]
  },
  {
   "cell_type": "code",
   "execution_count": null,
   "metadata": {
    "scrolled": false
   },
   "outputs": [],
   "source": [
    "#PrimeWithfuture.py\n",
    "import concurrent.futures\n",
    "import math\n",
    "from time import time\n",
    "\n",
    "PRIMES = [\n",
    "    112272535095293,\n",
    "    112582705942171,\n",
    "    112272535095293,\n",
    "    115280095190773,\n",
    "    115797848077099,\n",
    "    1099726899285419]\n",
    "\n",
    "def is_prime(n):\n",
    "    if n < 2:\n",
    "        return False\n",
    "    if n == 2:\n",
    "        return True\n",
    "    if n % 2 == 0:\n",
    "        return False\n",
    "\n",
    "    sqrt_n = int(math.floor(math.sqrt(n)))\n",
    "    for i in range(3, sqrt_n + 1, 2):\n",
    "        if n % i == 0:\n",
    "            return False\n",
    "    return True\n",
    "\n",
    "def main():\n",
    "    start = time()\n",
    "    with concurrent.futures.ProcessPoolExecutor() as pool:\n",
    "        #提交给pool的工作是一个函数，如果是map，提交方式为pool.map()\n",
    "        for number, prime in zip(PRIMES, pool.map(is_prime, PRIMES)):\n",
    "            print('%d is prime? %s' % (number, prime))\n",
    "    end = time()\n",
    "    print((end-start)/len(PRIMES))\n",
    "\n",
    "if __name__ == '__main__':\n",
    "    main()"
   ]
  },
  {
   "cell_type": "code",
   "execution_count": null,
   "metadata": {
    "scrolled": true
   },
   "outputs": [],
   "source": [
    "help(zip)"
   ]
  },
  {
   "cell_type": "markdown",
   "metadata": {},
   "source": [
    "一个 ProcessPoolExecutor 创建N个进程， 默认N是系统上面可用CPU的个数。这个处理池会一直运行到with块中最后一个语句执行完成， 然后处理池被关闭。不过，程序会一直等待直到所有提交的工作被处理完成。\n",
    "+ 比较设置N=2,N=4,N=8,N=16的效率"
   ]
  },
  {
   "cell_type": "markdown",
   "metadata": {},
   "source": [
    "从比较可以看出，计算密集型任务虽然也可以用多任务完成，但是任务越多，花在任务切换的时间就越多，CPU执行任务的效率就越低，所以，一般情况下，要最高效地利用CPU，计算密集型任务同时进行的数量应当等于CPU的核心数。"
   ]
  },
  {
   "cell_type": "markdown",
   "metadata": {},
   "source": [
    "### 进程间的通信"
   ]
  },
  {
   "cell_type": "code",
   "execution_count": null,
   "metadata": {},
   "outputs": [],
   "source": [
    "#pingpang1.py\n",
    "from multiprocessing import Process\n",
    "from time import sleep\n",
    "\n",
    "counter = 0\n",
    "def sub_task(string):\n",
    "    global counter\n",
    "    while counter < 5:\n",
    "        print(string, end='', flush=True)\n",
    "        counter += 1\n",
    "        sleep(0.01)\n",
    "        \n",
    "def main():\n",
    "    Process(target=sub_task, args=('Ping', )).start()\n",
    "    Process(target=sub_task, args=('Pong', )).start()\n",
    "    \n",
    "if __name__ == '__main__':\n",
    "    main()"
   ]
  },
  {
   "cell_type": "code",
   "execution_count": null,
   "metadata": {},
   "outputs": [],
   "source": [
    "#pingpang2.py\n",
    "from multiprocessing import Process\n",
    "from time import sleep\n",
    "\n",
    "counter = 0\n",
    "def sub_task(string):\n",
    "    global counter\n",
    "    while counter < 5:\n",
    "        print(string, end='', flush=True)\n",
    "        counter += 1\n",
    "        sleep(0.01)\n",
    "        \n",
    "def main():\n",
    "    p1 = Process(target=sub_task, args=('Ping', ))\n",
    "    p2 = Process(target=sub_task, args=('Pong', ))\n",
    "    p1.start()\n",
    "    p1.join()\n",
    "    p2.start()\n",
    "    p2.join()\n",
    "\n",
    "if __name__ == '__main__':\n",
    "    main()"
   ]
  },
  {
   "cell_type": "markdown",
   "metadata": {},
   "source": [
    "每个子进程有自己独立的内存空间，这也就意味着两个子进程中各有一个counter变量，每个子进程有自己独立的内存空间，这也就意味着两个子进程中各有一个counter变量."
   ]
  },
  {
   "cell_type": "markdown",
   "metadata": {},
   "source": [
    "+ 操作系统提供了多种进程之间的通信方式\n",
    "+ Python的multiprocessing模块包装了底层的机制，提供了Queue、Pipes、Semaphore等多种方式来交换数据。"
   ]
  },
  {
   "cell_type": "markdown",
   "metadata": {},
   "source": [
    "注意区分multiprocessing.Queue和queue.Queue\n",
    "+ 不同点：前者为进程提供服务，后者为线程提供服务；\n",
    "+ 相同点：他们都提供了put(),get(),full(),empty(),qsize()等方法"
   ]
  },
  {
   "cell_type": "markdown",
   "metadata": {},
   "source": [
    "第一个示例：子进程向Queue中写入数据，父进程在Queue中读取数据"
   ]
  },
  {
   "cell_type": "code",
   "execution_count": null,
   "metadata": {},
   "outputs": [],
   "source": [
    "# queuecommu1.py\n",
    "from multiprocessing import Process,Queue,Pipes\n",
    "import os\n",
    "\n",
    "def fun(q):\n",
    "    print('(%s) 进程向队列中写入数据...'% os.getpid())\n",
    "    q.put('hello')\n",
    "\n",
    "def main():\n",
    "    #创建进程通信的Queue\n",
    "    q = Queue()\n",
    "    #创建子进程\n",
    "    p = Process(target=fun,args=(q,))\n",
    "    p.start()\n",
    "    print('(%s) 进程开始从队列这读取数据...' % os.getpid())\n",
    "    #读取数据\n",
    "    print(q.get())\n",
    "    p.join()\n",
    "    \n",
    "if __name__=='__main__':\n",
    "    main()"
   ]
  },
  {
   "cell_type": "code",
   "execution_count": null,
   "metadata": {},
   "outputs": [],
   "source": [
    "import multiprocessing\n",
    "help(multiprocessing)"
   ]
  },
  {
   "cell_type": "markdown",
   "metadata": {},
   "source": [
    "第二个示例：两个子进程之间的通信，一个子进程向Queue中写入数据，另一个子进程从Queue中读取数据"
   ]
  },
  {
   "cell_type": "code",
   "execution_count": null,
   "metadata": {},
   "outputs": [],
   "source": [
    "#queuecommu2.py\n",
    "\n",
    "from multiprocessing import Process, Queue,current_process\n",
    "import time, random\n",
    "\n",
    "# 写数据进程:\n",
    "def write(q):\n",
    "    print('Process to write: %s' % current_process().pid)\n",
    "    for value in ['A', 'B', 'C']:\n",
    "        print('Put %s to queue...' % value)\n",
    "        q.put(value)\n",
    "        time.sleep(random.random())\n",
    "\n",
    "# 读数据进程:\n",
    "def read(q):\n",
    "    print('Process to read: %s' % current_process().pid)\n",
    "    while True:\n",
    "        value = q.get(True)\n",
    "        print('Get %s from queue.' % value)\n",
    "\n",
    "def main()\n",
    "    # 父进程创建Queue，并传给各个子进程：\n",
    "    q = Queue()\n",
    "    pwrite = Process(target=write, args=(q,))\n",
    "    pread = Process(target=read, args=(q,))\n",
    "    # 启动子进程pwrite，向队列写入数据\n",
    "    pwrite.start()\n",
    "    # 启动子进程pread，从队列读取数据\n",
    "    pread.start()\n",
    "    # 等待pwrite结束:\n",
    "    pwrite.join()\n",
    "    # pread进程里是死循环，无法等待其结束，只能强行终止:\n",
    "    pread.terminate()\n",
    "    \n",
    "if __name__=='__main__':\n",
    "    main()"
   ]
  },
  {
   "cell_type": "code",
   "execution_count": null,
   "metadata": {},
   "outputs": [],
   "source": [
    "\n",
    "# multitask1.py\n",
    "from multiprocessing import Process, Queue\n",
    "from random import randint\n",
    "from time import time\n",
    "\n",
    "def task_handler(curr_list, result_queue):\n",
    "    total = 0\n",
    "    for number in curr_list:\n",
    "        total += number\n",
    "    result_queue.put(total)\n",
    "\n",
    "def main():\n",
    "    processes = []\n",
    "    number_list = [x for x in range(1, 100000001)]\n",
    "    result_queue = Queue()\n",
    "    index = 0\n",
    "    # 启动8个进程将数据切片后进行运算\n",
    "    for _ in range(8):\n",
    "        p = Process(target=task_handler,\n",
    "                    args=(number_list[index:index + 12500000], result_queue))\n",
    "        index += 12500000\n",
    "        processes.append(p)\n",
    "        p.start()\n",
    "    # 开始记录所有进程执行完成花费的时间\n",
    "    start = time()\n",
    "    for p in processes:\n",
    "        p.join()\n",
    "    # 合并执行结果\n",
    "    total = 0\n",
    "    while not result_queue.empty():\n",
    "        total += result_queue.get()\n",
    "    print(total)\n",
    "    end = time()\n",
    "    print('Execution time: ', (end - start), 's', sep='')\n",
    "\n",
    "if __name__ == '__main__':\n",
    "    main()"
   ]
  },
  {
   "cell_type": "code",
   "execution_count": null,
   "metadata": {},
   "outputs": [],
   "source": [
    "#不采用多进程处理计算密集型任务，与上面cell进行比较\n",
    "# multitask0.py\n",
    "from time import time\n",
    "\n",
    "def main():\n",
    "    total = 0\n",
    "    number_list = [x for x in range(1, 1000000001)]\n",
    "    start = time()\n",
    "    for number in number_list:\n",
    "        total += number\n",
    "    print(total)\n",
    "    end = time()\n",
    "    print('Execution time: %.3fs' % (end - start))\n",
    "\n",
    "if __name__ == '__main__':\n",
    "    main()"
   ]
  },
  {
   "cell_type": "markdown",
   "metadata": {},
   "source": [
    "使用多进程后由于获得了更多的CPU执行时间以及更好的利用了CPU的多核特性，明显的减少了程序的执行时间，而且计算量越大效果越明显。"
   ]
  },
  {
   "cell_type": "markdown",
   "metadata": {},
   "source": [
    "### 随堂educoder实训"
   ]
  },
  {
   "cell_type": "markdown",
   "metadata": {},
   "source": [
    "随堂测试-进程：https://www.educoder.net/shixuns/3xc8ptyf/challenges"
   ]
  },
  {
   "cell_type": "markdown",
   "metadata": {},
   "source": [
    "## 多线程"
   ]
  },
  {
   "cell_type": "markdown",
   "metadata": {},
   "source": [
    "多任务可以由多进程完成，也可以由一个进程内的多线程完成。"
   ]
  },
  {
   "cell_type": "markdown",
   "metadata": {},
   "source": [
    "多线程的实际应用场景：一个浏览器必须同时下载多张图片；一个web服务器必须同时响应多个用户请求等待。"
   ]
  },
  {
   "cell_type": "markdown",
   "metadata": {},
   "source": [
    "### 课堂：threading模块"
   ]
  },
  {
   "cell_type": "markdown",
   "metadata": {},
   "source": [
    "模块\n",
    "+ 低级模块: _thread模块\n",
    "+ 高级模块：threading模块对_thread进行了封装。大多数情况下，我们只需要使用threading这个高级模块"
   ]
  },
  {
   "cell_type": "code",
   "execution_count": null,
   "metadata": {
    "scrolled": true
   },
   "outputs": [],
   "source": [
    "import threading\n",
    "help(threading)\n",
    "# print(threading.stack_size())  #查看当前线程栈大小\n",
    "# threading.stack_size(64*1024) #设置当前栈大小\n",
    "# print(threading.stack_size())\n",
    "# print(threading.active_count()) #查看活动的线程数量\n",
    "# print(threading.enumerate())    #枚举当前活动的线程，返回列表形式      \n",
    "# print(threading.current_thread())"
   ]
  },
  {
   "cell_type": "markdown",
   "metadata": {},
   "source": [
    "创建一个线程有以下两种方式：\n",
    "+ 通过threading模块的Thread类的构造方法创建线程。把一个函数传给target创建Thread实例，然后调用start方法启动线程\n",
    "+ 继承threading模块的Thread类创建线程类"
   ]
  },
  {
   "cell_type": "code",
   "execution_count": null,
   "metadata": {
    "scrolled": false
   },
   "outputs": [],
   "source": [
    "import threading\n",
    "help(threading.Thread)"
   ]
  },
  {
   "cell_type": "raw",
   "metadata": {},
   "source": [
    " __init__(self, group=None, target=None, name=None, args=(), kwargs=None, *, daemon=None)\n",
    " gruop 该线程所属线程组，这个是方便以后的扩展，暂时未用，设置为None\n",
    " target 该线程要调度的目标方法\n",
    " name 读取或设置线程名字，默认为Thread-N形式，N是一个十进制的数字\n",
    " args 一个元组，作为target的位置参数\n",
    " kwargs 一个字典，作为target的关键字参数传入\n",
    " daemon 是否作为后台线程"
   ]
  },
  {
   "cell_type": "code",
   "execution_count": null,
   "metadata": {},
   "outputs": [],
   "source": [
    "#join方法\n",
    "import threading\n",
    "import time\n",
    "def func(x, y):\n",
    "    for i in range(x, y):\n",
    "        print(i,end = ' ')\n",
    "t1=threading.Thread(target = func, name = 'thread1',args = (1, 10))\n",
    "t1.start()\n",
    "t1.join()         #注释掉这里试试\n",
    "t2=threading.Thread(target = func,name = 'thread2', args = (10, 15))\n",
    "t2.start()\n",
    "t2.join()          #注释掉这里试试"
   ]
  },
  {
   "cell_type": "code",
   "execution_count": null,
   "metadata": {
    "scrolled": true
   },
   "outputs": [],
   "source": [
    "from threading import Thread\n",
    "def music(par):\n",
    "    for i in range(3):\n",
    "        print(\"listening %s\" %par)      \n",
    "def movie(par):\n",
    "     for i in range(3):\n",
    "        print(\"watching %s\" %par)\n",
    "if __name__=='__main__':\n",
    "    threads=[]\n",
    "    t1=Thread(target=music,args=(\"学猫叫\",))\n",
    "    threads.append(t1)\n",
    "    t2=Thread(target=movie,args=(\"流浪地球\",))\n",
    "    threads.append(t2)\n",
    "    for t in threads:\n",
    "        t.start()\n",
    "        t.join()"
   ]
  },
  {
   "cell_type": "code",
   "execution_count": null,
   "metadata": {},
   "outputs": [],
   "source": [
    "import threading,time\n",
    "def music(par):\n",
    "    for i in range(3):\n",
    "        print(\"listening %s\" %par)\n",
    "        time.sleep(0.01) #睡眠1秒\n",
    "def movie(par):\n",
    "     for i in range(3):\n",
    "        print(\"watching %s\" %par)\n",
    "        time.sleep(0.1) #睡眠1秒\n",
    "if __name__=='__main__':\n",
    "    threads=[]\n",
    "    t1=threading.Thread(target=music,args=(\"学猫叫\",))\n",
    "    threads.append(t1)\n",
    "    t2=threading.Thread(target=movie,args=(\"流浪地球\",))\n",
    "    threads.append(t2)\n",
    "    for t in threads:\n",
    "        t.start()\n",
    "    for t in threads:\n",
    "        t.join()\n",
    "    print(t1.isAlive())\n",
    "    print(t2.isAlive()) #测试线程是否处于运行状态"
   ]
  },
  {
   "cell_type": "code",
   "execution_count": null,
   "metadata": {},
   "outputs": [],
   "source": [
    "#继承threading模块的Thread类自定义线程类\n",
    "import threading\n",
    "import time\n",
    "class myThread(threading.Thread):\n",
    "    def __init__(self, num, threadname):\n",
    "        threading.Thread.__init__(self, name = threadname)  #使用未绑定方法调用父类的构造方法\n",
    "        self.num = num\n",
    "    def run(self):        \n",
    "        time.sleep(2)     #阻塞线程s2秒\n",
    "        print(self.num)\n",
    "\n",
    "t = myThread(6, 'mythread')\n",
    "t.daemon=True\n",
    "t.start()\n",
    "t.join()\n",
    "print('thread %s ended.' % threading.current_thread().name)"
   ]
  },
  {
   "cell_type": "markdown",
   "metadata": {},
   "source": [
    "### 课堂：同步锁Lock"
   ]
  },
  {
   "cell_type": "markdown",
   "metadata": {},
   "source": [
    "+ 多进程中，同一个变量，各自有一份拷贝存在于每个进程中，互不影响\n",
    "+ 多线程中，多线程共享一个全局变量可以实现线程间的通信。所有变量都由所有线程共享，但是当多个线程共享同一个变量（我们通常称之为“资源”）的时候，很有可能产生不可控的结果从而导致程序失效甚至崩溃。如果一个资源被多个线程竞争使用，那么我们通常称之为“临界资源”，对“临界资源”的访问需要加上保护，否则资源会处于“混乱”的状态。"
   ]
  },
  {
   "cell_type": "markdown",
   "metadata": {},
   "source": [
    "<img src=\"picture/进程.png\" width=\"400\"> "
   ]
  },
  {
   "cell_type": "markdown",
   "metadata": {},
   "source": [
    "<img src=\"picture/线程.png\" width=\"400\"> "
   ]
  },
  {
   "cell_type": "code",
   "execution_count": null,
   "metadata": {},
   "outputs": [],
   "source": [
    "#pingpang1.py\n",
    "from multiprocessing import Process\n",
    "from time import sleep\n",
    "counter = 0\n",
    "def sub_task(string):\n",
    "    global counter\n",
    "    while counter < 5:\n",
    "        print(string, end='', flush=True)\n",
    "        counter += 1\n",
    "        sleep(0.01)     \n",
    "def main():\n",
    "    p1 = Process(target=sub_task, args=('Ping', )).start()\n",
    "    p2 = Process(target=sub_task, args=('Pong', )).start()\n",
    "if __name__ == '__main__':\n",
    "    main()"
   ]
  },
  {
   "cell_type": "code",
   "execution_count": 3,
   "metadata": {},
   "outputs": [
    {
     "name": "stdout",
     "output_type": "stream",
     "text": [
      "PingPongPingPongPongPing"
     ]
    }
   ],
   "source": [
    "#pingpangThreadJoin.py\n",
    "from threading import Thread\n",
    "from time import sleep\n",
    "counter = 0\n",
    "def sub_task(string):\n",
    "    global counter\n",
    "    while counter < 5:\n",
    "        print(string, end='')\n",
    "        counter += 1\n",
    "        sleep(0.001) \n",
    "def main():\n",
    "    p1 = Thread(target=sub_task, args=('Ping', ))\n",
    "    p2 = Thread(target=sub_task, args=('Pong', ))\n",
    "    p1.start()\n",
    "#     p1.join()\n",
    "    p2.start()\n",
    "#     p2.join()\n",
    "if __name__ == '__main__':\n",
    "    main()"
   ]
  },
  {
   "cell_type": "markdown",
   "metadata": {},
   "source": [
    "线程安全经典问题：银行取钱"
   ]
  },
  {
   "cell_type": "code",
   "execution_count": null,
   "metadata": {},
   "outputs": [],
   "source": [
    "\n",
    "from threading import Thread,current_thread\n",
    "from time import sleep\n",
    "# 假定这是银行存款:\n",
    "balance = 1000\n",
    "def draw(account):\n",
    "    global balance\n",
    "    if (balance>=account):\n",
    "        print(current_thread().name +'取钱成功，取出钱数为：'\\\n",
    "              + str(account))\n",
    "        sleep(0.0001) #休眠，模拟线程调度暂停\n",
    "        balance = balance - account\n",
    "        print( '\\n账号余额为：' + str(balance))\n",
    "    else:\n",
    "        print(current_thread().name +'账号取钱时余额不足')\n",
    "#创建两个线程模拟两个用户从账号取钱  \n",
    "t1 = Thread(target=draw, name = '甲', args=(600,))\n",
    "t2 = Thread(target=draw, name = '乙', args=(600,))\n",
    "t1.start()\n",
    "t2.start()\n",
    "t1.join()\n",
    "t2.join()"
   ]
  },
  {
   "cell_type": "markdown",
   "metadata": {},
   "source": [
    "运行多次可能会出现了负值，这是由于线程调度的不确定性引起的。如果设置了休眠，第一个用户满足取钱条件，取出了钱，但是还没有修改余额，这时第二个用户线程取钱同样满足取钱条件，也会取出钱，因此总是会出现负值。"
   ]
  },
  {
   "cell_type": "markdown",
   "metadata": {},
   "source": [
    "线程同步：threading模块提供了Lock/RLock两个类，他们都提供了以下两个方法实现加锁和释放锁。\n",
    "+ acquire(locking=True,timeout=-1)方法：获取锁，timeout设置加锁多少秒\n",
    "+ release()方法：释放锁\n"
   ]
  },
  {
   "cell_type": "code",
   "execution_count": null,
   "metadata": {},
   "outputs": [],
   "source": [
    "help(threading.Lock())"
   ]
  },
  {
   "cell_type": "code",
   "execution_count": null,
   "metadata": {},
   "outputs": [],
   "source": [
    "from threading import Thread,current_thread\n",
    "from time import sleep\n",
    "balance = 1000 # 假定这是你的银行存款:\n",
    "lock = threading.Lock() #创建一个Lock锁\n",
    "def draw(draw_account):\n",
    "    global balance\n",
    "    lock.acquire() #获取锁\n",
    "    try:\n",
    "        if (balance>=draw_account):\n",
    "            print(current_thread().name +'取钱成功，取出钱数为：'+ str(draw_account))\n",
    "            sleep(0.001) #休眠，模拟线程调度暂停\n",
    "            balance = balance - draw_account\n",
    "            print( '\\n账号余额为：' + str(balance))\n",
    "        else:\n",
    "            print(current_thread().name +'账号取钱时余额不足')\n",
    "    finally:\n",
    "        lock.release() #释放锁\n",
    "\n",
    "#创建两个线程模拟两个用户从账号取钱  \n",
    "t1 = Thread(target=draw, name = '甲', args=(300,))\n",
    "t2 = Thread(target=draw, name = '乙', args=(800,))\n",
    "t1.start()\n",
    "t2.start()\n",
    "t1.join()\n",
    "t2.join()"
   ]
  },
  {
   "cell_type": "code",
   "execution_count": null,
   "metadata": {},
   "outputs": [],
   "source": [
    "import time, threading\n",
    "balance = 1000 # 假定这是你的银行存款:\n",
    "lock = threading.Lock() #创建一个Lock锁\n",
    "def draw(draw_account):\n",
    "    global balance\n",
    "    lock.acquire() #获取锁\n",
    "    if (balance>=draw_account):\n",
    "        print(threading.current_thread().name +'取钱成功，取出钱数为：'+ str(draw_account))\n",
    "        time.sleep(0.0001) #休眠，模拟线程调度暂停\n",
    "        balance = balance - draw_account\n",
    "        print( '\\n账号余额为：' + str(balance))\n",
    "    else: \n",
    "        print(threading.current_thread().name +'账号取钱时余额不足')\n",
    "\n",
    "#创建两个线程模拟两个用户从账号取钱  \n",
    "t1 = threading.Thread(target=draw, name = '甲', args=(600,))\n",
    "t2 = threading.Thread(target=draw, name = '乙', args=(600,))\n",
    "t1.start()\n",
    "t2.start()\n",
    "t1.join()\n",
    "t2.join()"
   ]
  },
  {
   "cell_type": "markdown",
   "metadata": {},
   "source": [
    "+ 通过锁提供了对共享临界资源的独占访问，当多个线程同时执行lock.acquire()时，只有一个线程能成功地获取锁，然后继续执行代码，其他线程就继续等待直到获得锁为止。\n",
    "+ 获得锁的线程用完后一定要释放锁，否则那些苦苦等待锁的线程将永远等待下去，成为死线程。所以我们用try...finally来确保锁一定会被释放。"
   ]
  },
  {
   "cell_type": "markdown",
   "metadata": {},
   "source": [
    "### 死锁"
   ]
  },
  {
   "cell_type": "markdown",
   "metadata": {},
   "source": [
    "使用锁有优缺点：\n",
    "优点：解决了临界资源问题；\n",
    "缺点：\n",
    "+ 包含锁的那段代码实际上是以单线程模式执行，不能实现我们希望的多线程并发运行，因此效率低。\n",
    "+ 可能引起死锁。如果有多个临界资源需要加锁，不同的线程持有不同临界资源的锁，并试图获取对方持有的锁时，可能会造成死锁，导致多个线程全部挂起，既不能执行，也无法结束，只能靠操作系统强制终止。"
   ]
  },
  {
   "cell_type": "code",
   "execution_count": 4,
   "metadata": {},
   "outputs": [
    {
     "name": "stdout",
     "output_type": "stream",
     "text": [
      "wait for lock...\n",
      "wait for lock...\n"
     ]
    }
   ],
   "source": [
    "from threading import Thread\n",
    "from time import sleep\n",
    "\n",
    "class Account: \n",
    "    def __init__(self, id, balance, lock): \n",
    "        self.id = id \n",
    "        self.balance = balance \n",
    "        self.lock = lock \n",
    "    def withdraw(self, amount): \n",
    "        self.balance -= amount \n",
    "    def deposit(self, amount): \n",
    "        self.balance += amount \n",
    "\n",
    "def transfer(src, dst, amount): \n",
    "        if src.lock.acquire():#锁住自己的账户 \n",
    "            src.withdraw(amount) \n",
    "        sleep(1)#让交易时间变长，2个交易线程时间上重叠，有足够时间来产生死锁 \n",
    "        print( 'wait for lock...')\n",
    "        if dst.lock.acquire():#锁住对方的账户 \n",
    "            dst.deposit(amount) \n",
    "            dst.lock.release() \n",
    "        src.lock.release() \n",
    "        print( 'finish...')\n",
    "\n",
    "a = Account('a',1000, threading.Lock()) \n",
    "b = Account('b',1000, threading.Lock()) \n",
    "Thread(target = transfer, args = (a, b, 100)).start() #a转账100到b\n",
    "Thread(target = transfer, args = (b, a, 200)).start() #b转账200到a"
   ]
  },
  {
   "cell_type": "markdown",
   "metadata": {},
   "source": [
    "编程时应尽量避免死锁，解决死锁的方法：\n",
    "+ 尽量避免同一个线程对多个Lock进行锁定\n",
    "+ 多个线程用多个Lock进行锁定时，采用相同的顺序获取锁\n",
    "+ 线程在获取锁时，设定acquire()方法的timeout参数，限定锁的时间，超过timeout会自动释放锁\n",
    "+ 设计死锁检测算法"
   ]
  },
  {
   "cell_type": "markdown",
   "metadata": {},
   "source": [
    "GIL锁(Global Interpreter Lock)：全局解释锁"
   ]
  },
  {
   "cell_type": "raw",
   "metadata": {},
   "source": [
    "Python中的GIL会影响多线程的性能。\n",
    "Cpython解释器执行代码时，如果是多线程的情况下，只有当线程获得了一个全局锁的时候，那么该线程的代码才能运行，而全局锁只有一个，所以使用python多线程，在同一时刻也只有一个线程在运行，这个GIL全局锁实际上把所有线程的执行代码都给上了锁，因此在即使在多核的情况下也只能发挥出单核的性能。\n",
    "注意：GIL是Python解释器（Cpython）时引入的概念，在JPython、PyPy中没有GIL。"
   ]
  },
  {
   "cell_type": "markdown",
   "metadata": {},
   "source": [
    "## 线程通信"
   ]
  },
  {
   "cell_type": "markdown",
   "metadata": {},
   "source": [
    "### 使用Condition实现线程通信"
   ]
  },
  {
   "cell_type": "code",
   "execution_count": 5,
   "metadata": {},
   "outputs": [
    {
     "name": "stdout",
     "output_type": "stream",
     "text": [
      "Help on class Condition in module threading:\n",
      "\n",
      "class Condition(builtins.object)\n",
      " |  Condition(lock=None)\n",
      " |  \n",
      " |  Class that implements a condition variable.\n",
      " |  \n",
      " |  A condition variable allows one or more threads to wait until they are\n",
      " |  notified by another thread.\n",
      " |  \n",
      " |  If the lock argument is given and not None, it must be a Lock or RLock\n",
      " |  object, and it is used as the underlying lock. Otherwise, a new RLock object\n",
      " |  is created and used as the underlying lock.\n",
      " |  \n",
      " |  Methods defined here:\n",
      " |  \n",
      " |  __enter__(self)\n",
      " |  \n",
      " |  __exit__(self, *args)\n",
      " |  \n",
      " |  __init__(self, lock=None)\n",
      " |      Initialize self.  See help(type(self)) for accurate signature.\n",
      " |  \n",
      " |  __repr__(self)\n",
      " |      Return repr(self).\n",
      " |  \n",
      " |  notify(self, n=1)\n",
      " |      Wake up one or more threads waiting on this condition, if any.\n",
      " |      \n",
      " |      If the calling thread has not acquired the lock when this method is\n",
      " |      called, a RuntimeError is raised.\n",
      " |      \n",
      " |      This method wakes up at most n of the threads waiting for the condition\n",
      " |      variable; it is a no-op if no threads are waiting.\n",
      " |  \n",
      " |  notifyAll = notify_all(self)\n",
      " |  \n",
      " |  notify_all(self)\n",
      " |      Wake up all threads waiting on this condition.\n",
      " |      \n",
      " |      If the calling thread has not acquired the lock when this method\n",
      " |      is called, a RuntimeError is raised.\n",
      " |  \n",
      " |  wait(self, timeout=None)\n",
      " |      Wait until notified or until a timeout occurs.\n",
      " |      \n",
      " |      If the calling thread has not acquired the lock when this method is\n",
      " |      called, a RuntimeError is raised.\n",
      " |      \n",
      " |      This method releases the underlying lock, and then blocks until it is\n",
      " |      awakened by a notify() or notify_all() call for the same condition\n",
      " |      variable in another thread, or until the optional timeout occurs. Once\n",
      " |      awakened or timed out, it re-acquires the lock and returns.\n",
      " |      \n",
      " |      When the timeout argument is present and not None, it should be a\n",
      " |      floating point number specifying a timeout for the operation in seconds\n",
      " |      (or fractions thereof).\n",
      " |      \n",
      " |      When the underlying lock is an RLock, it is not released using its\n",
      " |      release() method, since this may not actually unlock the lock when it\n",
      " |      was acquired multiple times recursively. Instead, an internal interface\n",
      " |      of the RLock class is used, which really unlocks it even when it has\n",
      " |      been recursively acquired several times. Another internal interface is\n",
      " |      then used to restore the recursion level when the lock is reacquired.\n",
      " |  \n",
      " |  wait_for(self, predicate, timeout=None)\n",
      " |      Wait until a condition evaluates to True.\n",
      " |      \n",
      " |      predicate should be a callable which result will be interpreted as a\n",
      " |      boolean value.  A timeout may be provided giving the maximum time to\n",
      " |      wait.\n",
      " |  \n",
      " |  ----------------------------------------------------------------------\n",
      " |  Data descriptors defined here:\n",
      " |  \n",
      " |  __dict__\n",
      " |      dictionary for instance variables (if defined)\n",
      " |  \n",
      " |  __weakref__\n",
      " |      list of weak references to the object (if defined)\n",
      "\n"
     ]
    }
   ],
   "source": [
    "from threading import Thread,Condition\n",
    "help(Condition)"
   ]
  },
  {
   "cell_type": "raw",
   "metadata": {},
   "source": [
    "条件变量同步：\n",
    "1、创建condition对象；\n",
    "2、通过acquire获得锁，然后判断一些条件；\n",
    "    如果条件不满足则wait阻塞该线程；\n",
    "    如果条件满足，进行相关操作，通过notify()方法通知唤醒其他线程，其他处于wait状态的线程接到通知后会重新判断条件；\n",
    "3、最后要release释放锁。"
   ]
  },
  {
   "cell_type": "code",
   "execution_count": null,
   "metadata": {
    "scrolled": true
   },
   "outputs": [],
   "source": [
    "from time import sleep\n",
    "from threading import Thread,Condition\n",
    "class Putter(Thread): #自定义生产者线程类\n",
    "    def __init__(self, threadname):\n",
    "        Thread.__init__(self,name=threadname) \n",
    "    def run(self):\n",
    "        global count\n",
    "        while True:\n",
    "            if con.acquire():\n",
    "                if count > 100: # 当count 小于100 的时候进行生产\n",
    "                    con.wait()\n",
    "                else:\n",
    "                    count = count + 50\n",
    "                    print(self.name+' produce 50, count='\\\n",
    "                          + str(count))\n",
    "                    # 完成生成后唤醒waiting状态的线程，\n",
    "                    # 从waiting池中挑选一个线程，\n",
    "                    # 通知其调用acquire方法尝试取到锁\n",
    "                    con.notify()\n",
    "                con.release()\n",
    "class Taker(Thread): #自定义消费者线程类\n",
    "    def __init__(self, threadname):\n",
    "        Thread.__init__(self, name =threadname)  \n",
    "    def run(self):\n",
    "        global count\n",
    "        while True: \n",
    "            if con.acquire(): # 当count 大于100的时候进行消费\n",
    "                if count < 100:\n",
    "                    con.wait()\n",
    "                else:\n",
    "                    count = count - 20\n",
    "                    print(self.name+' consume 20, count='\\\n",
    "                          + str(count))\n",
    "                    con.notify()\n",
    "                        # 完成生成后唤醒waiting状态的线程，\n",
    "                        # 从waiting池中挑选一个线程，\n",
    "                        # 通知其调用acquire方法尝试取到锁\n",
    "                con.release()\n",
    "                sleep(1)\n",
    "\n",
    "count = 200\n",
    "con = Condition() #创建condition对象\n",
    "def main():\n",
    "    for i in range(2):\n",
    "        p = Putter('Putter')\n",
    "        p.start()\n",
    "    for i in range(3):\n",
    "        t = Taker('Taker')\n",
    "        t.start()\n",
    "if __name__ == '__main__':\n",
    "    main()"
   ]
  },
  {
   "cell_type": "raw",
   "metadata": {},
   "source": [
    "使用with语句管理上下文\n",
    "with some_lock:\n",
    "    # do something...\n",
    "\n",
    "等价于\n",
    "\n",
    "some_lock.acquire()\n",
    "try:\n",
    "    # do something...\n",
    "finally:\n",
    "    some_lock.release()\n"
   ]
  },
  {
   "cell_type": "code",
   "execution_count": null,
   "metadata": {},
   "outputs": [],
   "source": [
    "from time import sleep\n",
    "from threading import Thread,Condition\n",
    "class Putter(Thread): #自定义生产者线程类\n",
    "    def __init__(self, threadname):\n",
    "        Thread.__init__(self,name=threadname) \n",
    "    def run(self):\n",
    "        global count\n",
    "        while True:\n",
    "            with con: \n",
    "                if count > 100: # 当count小于100生产\n",
    "                    con.wait()\n",
    "                else:\n",
    "                    count = count+50\n",
    "                    print(self.name+' produce 50, count='\\\n",
    "                          + str(count))\n",
    "                    # 完成生成后唤醒waiting状态的线程，\n",
    "                    # 从waiting池中挑选一个线程，\n",
    "                    # 通知其调用acquire方法尝试取到锁\n",
    "                    con.notify()\n",
    "class Taker(Thread): #自定义消费者线程类\n",
    "    def __init__(self, threadname):\n",
    "        Thread.__init__(self, name =threadname)  \n",
    "    def run(self):\n",
    "        global count\n",
    "        while True:\n",
    "            with con:  # 当count 大于等于100时消费\n",
    "                if count < 100:\n",
    "                    con.wait()\n",
    "                else:\n",
    "                    count = count-20\n",
    "                    print(self.name+' consume 20, count='\\\n",
    "                          + str(count))\n",
    "                    con.notify()\n",
    "                    # 完成生成后唤醒waiting状态的线程，\n",
    "                    # 从waiting池中挑选一个线程，\n",
    "                    # 通知其调用acquire方法尝试取到锁\n",
    "                sleep(1)\n",
    "\n",
    "count = 200\n",
    "con = Condition() #创建condition对象\n",
    "def main():\n",
    "    for i in range(2):\n",
    "        p = Putter('Putter')\n",
    "        p.start()\n",
    "    for i in range(3):\n",
    "        t = Taker('Taker')\n",
    "        t.start()\n",
    "if __name__ == '__main__':\n",
    "    main()"
   ]
  },
  {
   "cell_type": "raw",
   "metadata": {
    "solution2": "shown",
    "solution2_first": true
   },
   "source": [
    "编写程序，自定义银行账号类Account，模拟银行存取款的过程。要求：\n",
    "1.自定类的构造函数，类中定义取钱方法和存取方法；\n",
    "2.创建取款者线程和存款者线程，模拟二者不断地重复存钱和取钱动作，取钱和存钱数通过随机数产生。当存款者将钱存入指定账号后，取钱者立即取钱，而且不允许连续两次存钱和取钱；\n",
    "3.通过condtion实现线程安全通信。"
   ]
  },
  {
   "cell_type": "code",
   "execution_count": null,
   "metadata": {
    "solution2": "shown"
   },
   "outputs": [
    {
     "name": "stdout",
     "output_type": "stream",
     "text": [
      "taker take 19 balance: 81\n",
      "putter put 4 balance: 85\n",
      "taker take 80 balance: 5\n",
      "putter put 40 balance: 45\n",
      "Taker consume 20, count=130\n",
      "Taker consume 20, count=110\n",
      "Taker consume 20, count=90\n",
      "putter put 10 balance: 55\n",
      "taker take 21 balance: 34\n",
      "putter put 29 balance: 63\n"
     ]
    }
   ],
   "source": [
    "from threading import Thread,Condition\n",
    "from random import randint\n",
    "from time import sleep\n",
    "class Account(Thread):\n",
    "    def __init__(self,ID,threadname):\n",
    "        Thread.__init__(self,name=threadname)\n",
    "        self.ID=ID\n",
    "    def put(self):\n",
    "        global balance\n",
    "        count=randint(1,100)\n",
    "        if(con.acquire()):\n",
    "            balance=balance+count\n",
    "            print(\"%s put %d balance: %d\" \\\n",
    "                  %(self.name,count,balance))\n",
    "            con.notify()\n",
    "            con.release()\n",
    "    def take(self):\n",
    "        global balance\n",
    "        if(con.acquire()):\n",
    "            count=randint(1,100)\n",
    "            if(balance<count):\n",
    "                con.wait()\n",
    "            else:\n",
    "                balance-=count\n",
    "                print(\"%s take %d balance: %d\"\\\n",
    "                      %(self.name,count,balance))\n",
    "                con.notify()\n",
    "            con.release()\n",
    "            #sleep(1)\n",
    "con = Condition() \n",
    "balance = 100\n",
    "def test():\n",
    "    taker=Account(\"ID1\",\"taker\")\n",
    "    putter=Account(\"ID2\",\"putter\")\n",
    "    while(True):\n",
    "        taker.take()\n",
    "        putter.put()\n",
    "if __name__==\"__main__\":\n",
    "    test()"
   ]
  },
  {
   "cell_type": "raw",
   "metadata": {
    "solution2": "shown",
    "solution2_first": true
   },
   "source": [
    "编写程序，继承threading模块的Thread类自定义生产者类和消费者类线程，二者共享大小为5的缓冲区列表。生产者每隔1-3秒就生成一个1-100之间的数字并放入缓冲区，如果缓冲区已经满了则等待；消费者每隔1-3秒从缓冲区里取出生产日期较早的数字进行消费，如果缓冲区已空就等待。"
   ]
  },
  {
   "cell_type": "code",
   "execution_count": null,
   "metadata": {
    "solution2": "shown"
   },
   "outputs": [],
   "source": [
    "from threading import Thread,Condition\n",
    "from random import randint\n",
    "from time import sleep\n",
    "\n",
    "class Accout:\n",
    "    def __init__(self,user,count):\n",
    "        self.user = user\n",
    "        self.count = count\n",
    "    def put_money(self):\n",
    "        global temp_list\n",
    "        while(True):\n",
    "            if con.acquire():\n",
    "                if len(temp_list) > 1:\n",
    "                    con.wait()\n",
    "                else:\n",
    "                    temp_list.append(self.count)\n",
    "                    print(self.user + '余额为'\\\n",
    "                          + str(self.count))\n",
    "                    con.notify()\n",
    "            con.release()\n",
    "            sleep(3)\n",
    "    def get_money(self):\n",
    "        global temp_list\n",
    "        while(True):\n",
    "            if con.acquire():\n",
    "                if len(temp_list)==0:\n",
    "                    con.wait()\n",
    "                else:\n",
    "                    print(self.user + '取出'\\\n",
    "                          + str(temp_list[0]))\n",
    "                    del temp_list[0]\n",
    "                    con.notify()\n",
    "                con.release()\n",
    "                sleep(3)\n",
    "\n",
    "    def put_process(self):\n",
    "        t1 = Thread(target=Accout.put_money, args=(self,))\n",
    "        t1.start()\n",
    "    def get_process(self):\n",
    "        t2 = Thread(target=Accout.get_money,args=(self,))\n",
    "        t2.start()\n",
    "con = threading.Condition()\n",
    "temp_list = []\n",
    "def test():\n",
    "    while True:\n",
    "        count1 = randint(1, 100)\n",
    "        p = Accout('账号', count1)\n",
    "        p.put_process()\n",
    "        count2 = 0\n",
    "        q = Accout('账号', count2)\n",
    "        q.get_process()\n",
    "if __name__ ==  '__main__':\n",
    "    test()"
   ]
  },
  {
   "cell_type": "markdown",
   "metadata": {},
   "source": [
    "### 使用queue实现线程通信"
   ]
  },
  {
   "cell_type": "markdown",
   "metadata": {},
   "source": [
    "queue模块下有三种队列类，分别如下：\n",
    "+ queue.Queue：先进先出FIFO的常规队列\n",
    "+ queue.LifoQueue：后进先出的队列\n",
    "+ queue.PriorityQueue：优先级队列，优先级最小的先出队"
   ]
  },
  {
   "cell_type": "markdown",
   "metadata": {},
   "source": [
    "三种队列类提供的方法基本相同，下面以queue.Queue类为例：\n",
    "+ qsize(self)：队列的实际大小\n",
    "+ empty(self)：判定队列空，空返回True，否则返回False\n",
    "+ full(self)：判定队列满，满返回True，否则返回False\n",
    "+ put(self, item, block=True, timeout=None)：往队列中放入元素。如果队列满，block=True（阻塞方式），则当前线程被阻塞；如果队列满，block=False（非阻塞方式），则抛出异常queue.FULL\n",
    "+ put_nowait(self, item)：往队列放入元素，采用非阻塞方式\n",
    "+ get(self, block=True, timeout=None) ：往队列中取出元素。如果队列空，block=True（阻塞方式），则当前线程被阻塞；如果队列空，block=False（非阻塞方式），则抛出异常queue.EMPTY\n",
    "+ get_nowait(self):往队列取出元素，采用非阻塞方式\n",
    "+ task_done(self):前面的任务已经完成，用在队列的消费者线程中。get方法之后调用task_done方法告诉队列处理的任务完成了。\n",
    "+ join(self)：队列阻塞，直到队列中所有的元素都被处理完毕。"
   ]
  },
  {
   "cell_type": "code",
   "execution_count": null,
   "metadata": {},
   "outputs": [],
   "source": [
    "import queue\n",
    "help(queue.Queue)"
   ]
  },
  {
   "cell_type": "code",
   "execution_count": null,
   "metadata": {},
   "outputs": [],
   "source": [
    "from threading import Thread\n",
    "from queue import Queue\n",
    "from time import sleep\n",
    "class Putter(Thread): #自定义生产者线程类\n",
    "    def __init__(self, threadname):\n",
    "        Thread.__init__(self,name=threadname) \n",
    "    def run(self):\n",
    "        for i in range(5):\n",
    "            sleep(2) # 等待随机时间，体现其他线程调度\n",
    "            myQueue.put(i)\n",
    "            print(self.getName(),' put ', i,\\\n",
    "                  ' to queue.' + '\\n')\n",
    "        myQueue.put(None)  # None表示生产者线程结束\n",
    "class Taker(Thread): #自定义消费者线程类\n",
    "    def __init__(self, threadname):\n",
    "        Thread.__init__(self,name=threadname)    \n",
    "    def run(self):\n",
    "        while True:\n",
    "            sleep(3) # 等待随机时间，体现其他线程调度\n",
    "            item = myQueue.get()\n",
    "            if item is None:\n",
    "                break\n",
    "            print(self.getName(),' get ', item,\\\n",
    "                  ' from queue.'+ '\\n')\n",
    "myQueue = Queue()# 创建队列\n",
    "p = Putter('Putter') # 创建生产者线程\n",
    "t = Taker('Taker') # 创建消费者线程\n",
    "p.start()\n",
    "t.start()\n",
    "p.join()\n",
    "t.join()"
   ]
  },
  {
   "cell_type": "raw",
   "metadata": {},
   "source": [
    "|  join(self)\n",
    " |      Blocks until all items in the Queue have been gotten and processed.\n",
    " |      \n",
    " |      The count of unfinished tasks goes up whenever an item is added to the\n",
    " |      queue. The count goes down whenever a consumer thread calls task_done()\n",
    " |      to indicate the item was retrieved and all work on it is complete.\n",
    " |      \n",
    " |      When the count of unfinished tasks drops to zero, join() unblocks."
   ]
  },
  {
   "cell_type": "code",
   "execution_count": null,
   "metadata": {
    "scrolled": true
   },
   "outputs": [],
   "source": [
    "from threading import Thread,current_thread\n",
    "from queue import Queue\n",
    "from time import sleep\n",
    "def worker():\n",
    "    while True:\n",
    "        item = q.get()\n",
    "        if item is None:\n",
    "            break\n",
    "        print(current_thread().name +' worker get :'+ item+ '\\n')\n",
    "        sleep(0.1)\n",
    "        q.task_done() #注意这里   \n",
    "q = Queue()\n",
    "for item in ['A','B','C','D','E','F']:\n",
    "    q.put(item)\n",
    "threads = []\n",
    "for i in range(5):\n",
    "    t = Thread(target=worker)\n",
    "    t.start()\n",
    "    threads.append(t)    \n",
    "q.join() # 阻塞，直到队列中所有元素都被处理完毕\n",
    "# for i in range(5): #放入None，停止worker\n",
    "#     q.put(None)\n",
    "for t in threads:  #等待所有线程结束\n",
    "    t.join()\n",
    "print('thread %s ended.' % current_thread().name)"
   ]
  },
  {
   "cell_type": "markdown",
   "metadata": {},
   "source": [
    "### 使用Event实现线程通信"
   ]
  },
  {
   "cell_type": "code",
   "execution_count": null,
   "metadata": {},
   "outputs": [],
   "source": [
    "import threading\n",
    "help(threading.Event)"
   ]
  },
  {
   "cell_type": "raw",
   "metadata": {},
   "source": [
    " |  Events manage a flag that can be set to true with the set() method and reset\n",
    " |  to false with the clear() method. The wait() method blocks until the flag is\n",
    " |  true.  The flag is initially false.\n",
    " | \n",
    " | clear(self)\n",
    " |      Reset the internal flag to false.\n",
    " | is_set(self)：返回信号状态\n",
    " |      Return true if and only if the internal flag is true.\n",
    " | set(self)：设置信号状态为真\n",
    " |      Set the internal flag to true.\n",
    " |      \n",
    " |      All threads waiting for it to become true are awakened. Threads\n",
    " |      that call wait() once the flag is true will not block at all.\n",
    " |  \n",
    " |  wait(self, timeout=None)：\n",
    "   阻塞等待直到信号状态真时为止，如果设置了timeout参数，超时后，线程会停止阻塞继续执行；\n",
    " |      Block until the internal flag is true.\n",
    " |      \n",
    " |      If the internal flag is true on entry, return immediately. Otherwise,\n",
    " |      block until another thread calls set() to set the flag to true, or until\n",
    " |      the optional timeout occurs."
   ]
  },
  {
   "cell_type": "markdown",
   "metadata": {},
   "source": [
    "主线程先尝试连接服务器，如果正常的话，触发事件，各工作线程会尝试连接服务。"
   ]
  },
  {
   "cell_type": "code",
   "execution_count": null,
   "metadata": {
    "scrolled": false
   },
   "outputs": [],
   "source": [
    "from threading import Thread,Event,current_thread\n",
    "from time import sleep\n",
    "def worker(event):\n",
    "    print(current_thread().name,'waiting for server\\n')\n",
    "    event.wait()\n",
    "    print(current_thread().name,'server is ready\\n ')\n",
    "    sleep(1)\n",
    "\n",
    "server_ready = Event() #创建Event对象\n",
    "for i in range(3):\n",
    "    t = Thread(target=worker, args=(server_ready,))\n",
    "    t.start()\n",
    "print(current_thread().name,\"connecting server\\n\")\n",
    "sleep(3)\n",
    "server_ready.set() "
   ]
  },
  {
   "cell_type": "code",
   "execution_count": null,
   "metadata": {
    "scrolled": true
   },
   "outputs": [],
   "source": [
    "from threading import  Thread,Event\n",
    "from time import sleep,ctime\n",
    "from logging import basicConfig,debug,DEBUG\n",
    "\n",
    "basicConfig(level=DEBUG,format=\\\n",
    "            '(%(threadName)-10s) %(message)s',)\n",
    "def worker(event):\n",
    "    while not event.is_set():\n",
    "        debug('Waiting for server ready...')\n",
    "        event.wait(1)\n",
    "        debug('server ready, [%s]', ctime())\n",
    "    sleep(1)\n",
    "readis_ready = Event()\n",
    "for i in range(3):\n",
    "    t = Thread(target=worker, args=(readis_ready,))\n",
    "    t.start()\n",
    "debug('connecting server')\n",
    "sleep(3) \n",
    "readis_ready.set()"
   ]
  },
  {
   "cell_type": "markdown",
   "metadata": {},
   "source": [
    "模拟多线程连接Redis服务器，并使用logging模块打印日志信息"
   ]
  },
  {
   "cell_type": "code",
   "execution_count": null,
   "metadata": {},
   "outputs": [],
   "source": [
    "from threading import  Thread,Event\n",
    "from time import sleep,ctime\n",
    "from logging import basicConfig,debug,DEBUG\n",
    "  \n",
    "# basicConfig(level= DEBUG, format='(%(threadName)) %(message)s',)\n",
    "def worker(event):\n",
    "    debug('Waiting for redis ready...')\n",
    "    event.wait()\n",
    "    debug('redis ready [%s]', ctime())\n",
    "    sleep(1)\n",
    "readis_ready = Event()\n",
    "for i in range(3):\n",
    "    t = Thread(target=worker, args=(readis_ready,))\n",
    "    t.start()\n",
    "\n",
    "debug('check redis server')\n",
    "# sleep(3) \n",
    "readis_ready.set()"
   ]
  },
  {
   "cell_type": "markdown",
   "metadata": {},
   "source": [
    "设置wait方法的超时参数，如果Redis服务器一直没有启动，通过打印日志信息来不断地告诉子线程当前没有一个可以连接的Redis服务。"
   ]
  },
  {
   "cell_type": "code",
   "execution_count": null,
   "metadata": {},
   "outputs": [],
   "source": [
    "import threading,time,logging\n",
    "  \n",
    "logging.basicConfig(level=logging.DEBUG, format='(%(threadName)-10s) %(message)s',)\n",
    "def worker(event):\n",
    "    while not event.is_set():\n",
    "        logging.debug('Waiting for redis ready...')\n",
    "        event.wait(1)\n",
    "        logging.debug('Redis ready, [%s]', time.ctime())\n",
    "    time.sleep(1)\n",
    "readis_ready = threading.Event()\n",
    "for i in range(3):\n",
    "    t = threading.Thread(target=worker, args=(readis_ready,))\n",
    "    t.start()\n",
    "logging.debug('first of all, check redis server, make sure it is OK, and then trigger the redis ready event')\n",
    "time.sleep(3) \n",
    "readis_ready.set()"
   ]
  },
  {
   "cell_type": "markdown",
   "metadata": {},
   "source": [
    "Tips：Event不包含lock，如果要实现线程同步，需要额外的lock对象"
   ]
  },
  {
   "cell_type": "markdown",
   "metadata": {},
   "source": [
    "### 随堂educoder实训"
   ]
  },
  {
   "cell_type": "markdown",
   "metadata": {},
   "source": [
    "## 课堂：Thread-Local Data"
   ]
  },
  {
   "cell_type": "markdown",
   "metadata": {},
   "source": [
    "+ 在多线程环境下，如果一个线程对全局变量进行了修改，将会影响到其他所有的线程。为了避免多个线程同时对变量进行修改，引入了线程同步机制，通过互斥锁，条件变量等来控制对全局变量的访问。\n",
    "+ 但是在很多时候线程也需要拥有自己的私有数据，可以使用局部变量方式，同时python 还提供了 ThreadLocal 变量，它本身是一个全局变量，但是每个线程却可以利用它来保存属于自己的私有数据，这些私有数据对其他线程也是不可见的。"
   ]
  },
  {
   "cell_type": "code",
   "execution_count": 1,
   "metadata": {},
   "outputs": [
    {
     "name": "stdout",
     "output_type": "stream",
     "text": [
      "\n",
      "Thread2 local_data is : 0\n",
      "Thread1 local_data is : 0\n",
      "\n",
      "\n",
      "Thread1 local_data is : 1\n",
      "Thread2 local_data is : 1\n",
      "\n",
      "\n",
      "Thread1 local_data is : 3\n",
      "Thread2 local_data is : 3\n",
      "\n",
      "\n",
      "Thread2 local_data is : 6\n",
      "Thread1 local_data is : 6\n",
      "\n",
      "\n",
      "Thread2 local_data is : 10\n",
      "Thread1 local_data is : 10\n",
      "\n"
     ]
    }
   ],
   "source": [
    "from threading import Thread,current_thread\n",
    "import threading\n",
    "import time\n",
    "# 创建全局ThreadLocal对象:\n",
    "local_data = threading.local()\n",
    "def fun(n):\n",
    "    for i in range(n):\n",
    "        try:\n",
    "            local_data.num += i\n",
    "        except:\n",
    "            local_data.num = i\n",
    "        time.sleep(0.1)\n",
    "        print('\\n%s local_data is : %s' % (current_thread().name, local_data.num))\n",
    "threads=[]\n",
    "t1 = Thread(target=fun,name='Thread1',args=(5,))\n",
    "threads.append(t1)\n",
    "t2 = Thread(target=fun,name='Thread2',args=(5,))\n",
    "threads.append(t2)\n",
    "for t in threads:\n",
    "    t.start()\n",
    "for t in threads:\n",
    "    t.join()"
   ]
  },
  {
   "cell_type": "code",
   "execution_count": null,
   "metadata": {},
   "outputs": [],
   "source": [
    "#pingpang_thread-local.py\n",
    "from threading import Thread,local\n",
    "from time import sleep\n",
    "counter = local()\n",
    "def sub_task(string):\n",
    "    counter = 0\n",
    "    while counter < 5:\n",
    "        print(string, end='', flush=True)\n",
    "        counter += 1\n",
    "        sleep(0.01)     \n",
    "def main():\n",
    "    p1 = Thread(target=sub_task, args=('Ping', )).start()\n",
    "    p2 = Thread(target=sub_task, args=('Pong', )).start()\n",
    "if __name__ == '__main__':\n",
    "    main()"
   ]
  },
  {
   "cell_type": "markdown",
   "metadata": {},
   "source": [
    "## 课堂：ThreadPoolExecutor并发编程"
   ]
  },
  {
   "cell_type": "markdown",
   "metadata": {},
   "source": [
    "+ 由于启动新线程时，涉及到和操作系统的交互，因此启动新线程的成本比较高，为了提高性能，可以使用线程池来管理线程。\n",
    "+ 线程池在启动时创建大量的空闲线程，我们的程序只要将一个函数提交线程池，线程池就会启动一个空闲的线程来执行它。当函数结束后，这个线程并不会死亡，而是回到线程池中称为空闲状态，等待执行下一个函数。通过线程池可以控制系统中并发线程的数量。"
   ]
  },
  {
   "cell_type": "raw",
   "metadata": {},
   "source": [
    "一般步骤：\n",
    "1、调用ThreadPoolExecutor类的构造函数创建一个线程池\n",
    "2、定义普通函数作为线程任务\n",
    "3、调用ThreadPoolExecutor对象的submit()方法提交线程池任务\n",
    "4、通过shutdown方法关闭线程池"
   ]
  },
  {
   "cell_type": "code",
   "execution_count": null,
   "metadata": {},
   "outputs": [],
   "source": [
    "from concurrent.futures import ThreadPoolExecutor\n",
    "help(ThreadPoolExecutor())"
   ]
  },
  {
   "cell_type": "code",
   "execution_count": null,
   "metadata": {
    "scrolled": true
   },
   "outputs": [],
   "source": [
    "#ThreadPool\n",
    "from threading import current_thread,local\n",
    "from concurrent.futures import ThreadPoolExecutor\n",
    "from time import sleep\n",
    "# 创建全局ThreadLocal对象:\n",
    "local_data = local()\n",
    "def fun(n):\n",
    "    for i in range(n):\n",
    "        try:\n",
    "            local_data.num += i\n",
    "        except:\n",
    "            local_data.num = i\n",
    "        print('\\n%s local_data is : %s' % (current_thread().name, local_data.num))\n",
    "    return local_data.num\n",
    "        \n",
    "pool = ThreadPoolExecutor(max_workers=2)\n",
    "\n",
    "task1 = pool.submit(fun,5) #提交一个任务\n",
    "task2 = pool.submit(fun,10) #提交一个任务\n",
    "sleep(1)\n",
    "\n",
    "print(\"task1:\",task1.done())\n",
    "print(\"task2:\",task2.done())\n",
    "pool.shutdown()"
   ]
  },
  {
   "cell_type": "markdown",
   "metadata": {},
   "source": [
    "通过with语句管理上下文"
   ]
  },
  {
   "cell_type": "code",
   "execution_count": null,
   "metadata": {},
   "outputs": [],
   "source": [
    "from threading import current_thread,local\n",
    "from concurrent.futures import ThreadPoolExecutor\n",
    "# 创建全局ThreadLocal对象:\n",
    "local_data = local()\n",
    "def fun(n):\n",
    "    for i in range(n):\n",
    "        try:\n",
    "            local_data.num += i\n",
    "        except:\n",
    "            local_data.num = i\n",
    "        print('\\n%s local_data is : %s' % (current_thread().name, local_data.num))\n",
    "    return local_data.num\n",
    "        \n",
    "with ThreadPoolExecutor(max_workers=2) as pool: #创建包含两个线程的线程池\n",
    "    task1 = pool.submit(fun,5) #提交一个任务\n",
    "    task2 = pool.submit(fun,10) #提交另一个任务\n",
    "print(\"task1:\",task1.done())\n",
    "print(\"task2:\",task2.done())"
   ]
  },
  {
   "cell_type": "code",
   "execution_count": null,
   "metadata": {},
   "outputs": [],
   "source": [
    "#ThreadPoolExp3.py\n",
    "from threading import current_thread,local\n",
    "from concurrent.futures import ThreadPoolExecutor\n",
    "# 创建全局ThreadLocal对象:\n",
    "local_data = local()\n",
    "def fun(n):\n",
    "    for i in range(n):\n",
    "        try:\n",
    "            local_data.num += i\n",
    "        except:\n",
    "            local_data.num = i\n",
    "        print('\\n%s local_data is : %s' % (current_thread().name, local_data.num))\n",
    "    return local_data.num\n",
    "\n",
    "def main():\n",
    "    #创建包含三个线程的线程池 \n",
    "  \n",
    "    pool = ThreadPoolExecutor(max_workers=2)\n",
    "    for i in pool.map(fun,(5,10)): #使用map方法启动线程\n",
    "        print(i)\n",
    "\n",
    "if __name__ == '__main__':\n",
    "    main()"
   ]
  },
  {
   "cell_type": "code",
   "execution_count": null,
   "metadata": {},
   "outputs": [],
   "source": [
    "#PrimeWithfuture.py\n",
    "import concurrent.futures\n",
    "import math\n",
    "from time import time\n",
    "\n",
    "PRIMES = [\n",
    "    112272535095293,\n",
    "    112582705942171,\n",
    "    112272535095293,\n",
    "    115280095190773,\n",
    "    115797848077099,\n",
    "    1099726899285419]\n",
    "\n",
    "def is_prime(n):\n",
    "    if n < 2:\n",
    "        return False\n",
    "    if n == 2:\n",
    "        return True\n",
    "    if n % 2 == 0:\n",
    "        return False\n",
    "\n",
    "    sqrt_n = int(math.floor(math.sqrt(n)))\n",
    "    for i in range(3, sqrt_n + 1, 2):\n",
    "        if n % i == 0:\n",
    "            return False\n",
    "    return True\n",
    "\n",
    "def main():\n",
    "    start = time()\n",
    "    with concurrent.futures.ThreadPoolExecutor() as pool:\n",
    "        #提交给pool的工作是一个函数，如果是map，提交方式为pool.map()\n",
    "        for number, prime in zip(PRIMES, pool.map(is_prime, PRIMES)):\n",
    "            print('%d is prime? %s' % (number, prime))\n",
    "    end = time()\n",
    "    print((end-start)/len(PRIMES))\n",
    "\n",
    "if __name__ == '__main__':\n",
    "    main()"
   ]
  },
  {
   "cell_type": "markdown",
   "metadata": {},
   "source": [
    "## 本章拓展相关"
   ]
  },
  {
   "cell_type": "markdown",
   "metadata": {},
   "source": [
    "### 协程"
   ]
  },
  {
   "cell_type": "markdown",
   "metadata": {},
   "source": [
    "现代操作系统对I/O操作的改进中最为重要的就是支持异步I/O。如果充分利用操作系统提供的异步I/O支持，就可以用单进程单线程模型来执行多任务，这种全新的模型称为事件驱动模型。Nginx就是支持异步I/O的Web服务器，它在单核CPU上采用单进程模型就可以高效地支持多任务。在多核CPU上，可以运行多个进程（数量与CPU核心数相同），充分利用多核CPU。用Node.js开发的服务器端程序也使用了这种工作模式，这也是当下实现多任务编程的一种趋势。"
   ]
  }
 ],
 "metadata": {
  "kernelspec": {
   "display_name": "Python 3",
   "language": "python",
   "name": "python3"
  },
  "language_info": {
   "codemirror_mode": {
    "name": "ipython",
    "version": 3
   },
   "file_extension": ".py",
   "mimetype": "text/x-python",
   "name": "python",
   "nbconvert_exporter": "python",
   "pygments_lexer": "ipython3",
   "version": "3.8.3"
  },
  "latex_envs": {
   "LaTeX_envs_menu_present": true,
   "autoclose": false,
   "autocomplete": true,
   "bibliofile": "biblio.bib",
   "cite_by": "apalike",
   "current_citInitial": 1,
   "eqLabelWithNumbers": true,
   "eqNumInitial": 1,
   "hotkeys": {
    "equation": "Ctrl-E",
    "itemize": "Ctrl-I"
   },
   "labels_anchors": false,
   "latex_user_defs": false,
   "report_style_numbering": false,
   "user_envs_cfg": false
  },
  "toc": {
   "base_numbering": "8",
   "nav_menu": {},
   "number_sections": true,
   "sideBar": true,
   "skip_h1_title": false,
   "title_cell": "Table of Contents",
   "title_sidebar": "Contents",
   "toc_cell": false,
   "toc_position": {
    "height": "753.333px",
    "left": "760px",
    "top": "114px",
    "width": "226px"
   },
   "toc_section_display": true,
   "toc_window_display": true
  }
 },
 "nbformat": 4,
 "nbformat_minor": 4
}
